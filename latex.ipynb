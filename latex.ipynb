{
  "nbformat": 4,
  "nbformat_minor": 0,
  "metadata": {
    "colab": {
      "name": "Untitled1.ipynb",
      "provenance": [],
      "authorship_tag": "ABX9TyPLyoGkRgz0S1sR45fCk0ql",
      "include_colab_link": true
    },
    "kernelspec": {
      "name": "python3",
      "display_name": "Python 3"
    },
    "language_info": {
      "name": "python"
    }
  },
  "cells": [
    {
      "cell_type": "markdown",
      "metadata": {
        "id": "view-in-github",
        "colab_type": "text"
      },
      "source": [
        "<a href=\"https://colab.research.google.com/github/Limhj96/class/blob/main/latex.ipynb\" target=\"_parent\"><img src=\"https://colab.research.google.com/assets/colab-badge.svg\" alt=\"Open In Colab\"/></a>"
      ]
    },
    {
      "cell_type": "code",
      "metadata": {
        "id": "nxnsZN6m_JHf"
      },
      "source": [
        ""
      ],
      "execution_count": null,
      "outputs": []
    },
    {
      "cell_type": "markdown",
      "metadata": {
        "id": "eezHX6ht_Vct"
      },
      "source": [
        "## 수식\n",
        "\n",
        "$\\chi_{it}=~b_{i1}^{0}u_{1t}+\\cdots+b_{i1}^{s}u_{1,t-s}+b_{iq}^{0}u_{qt}+\\cdots+b_{iq}^{s}u_{q,t-s}$\n",
        "\n",
        "$\\chi_{it}=~\\lambda_{i}^{*}(L)F_{t}^{*}$\n",
        "\n",
        "$F_{t}^{*}=C(L)u_{t} $\n",
        "\n",
        "$\\sum_{j=1}^{m}\\sum_{t=1}^{T}(z_{j,t}-\\hat z_{j,t}(\\textbf{f},\\beta_j,\\alpha_j))^2$\n"
      ]
    },
    {
      "cell_type": "markdown",
      "metadata": {
        "id": "qVlQHAcL_R_r"
      },
      "source": [
        ""
      ]
    }
  ]
}